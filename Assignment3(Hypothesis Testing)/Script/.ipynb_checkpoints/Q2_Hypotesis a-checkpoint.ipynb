{
 "cells": [
  {
   "cell_type": "code",
   "execution_count": 31,
   "id": "3c83a01d",
   "metadata": {},
   "outputs": [],
   "source": [
    "import pandas as pd\n",
    "import numpy as np\n",
    "from scipy import stats\n",
    "from scipy.stats import norm\n",
    "import statsmodels.api as sm\n",
    "import statsmodels.formula.api as smf"
   ]
  },
  {
   "cell_type": "code",
   "execution_count": 5,
   "id": "90e7e966",
   "metadata": {},
   "outputs": [
    {
     "ename": "NameError",
     "evalue": "name 'pd' is not defined",
     "output_type": "error",
     "traceback": [
      "\u001b[1;31m---------------------------------------------------------------------------\u001b[0m",
      "\u001b[1;31mNameError\u001b[0m                                 Traceback (most recent call last)",
      "Cell \u001b[1;32mIn[5], line 1\u001b[0m\n\u001b[1;32m----> 1\u001b[0m data\u001b[38;5;241m=\u001b[39mpd\u001b[38;5;241m.\u001b[39mread_csv(\u001b[38;5;124m\"\u001b[39m\u001b[38;5;124mC://Users//wARcRACK//ExcelRAssignments//Assignment3(Hypothesis Testing)//Dataset//LabTAT.csv\u001b[39m\u001b[38;5;124m\"\u001b[39m)\n",
      "\u001b[1;31mNameError\u001b[0m: name 'pd' is not defined"
     ]
    }
   ],
   "source": [
    "data=pd.read_csv(\"C://Users//wARcRACK//ExcelRAssignments//Assignment3(Hypothesis Testing)//Dataset//LabTAT.csv\")\n"
   ]
  },
  {
   "cell_type": "code",
   "execution_count": 33,
   "id": "d94f1c22",
   "metadata": {},
   "outputs": [
    {
     "name": "stdout",
     "output_type": "stream",
     "text": [
      "Laboratory 1 Mean =  178.36158333333339\n",
      "Laboratory 2 Mean =  178.9029166666668\n",
      "Laboratory 3 Mean =  199.91325000000003\n",
      "Laboratory 4 Mean =  163.6827499999999\n"
     ]
    }
   ],
   "source": [
    "Laboratory_1=data['Laboratory 1'].mean()\n",
    "Laboratory_2=data['Laboratory 2'].mean()\n",
    "Laboratory_3=data['Laboratory 3'].mean()\n",
    "Laboratory_4=data['Laboratory 4'].mean()\n",
    "\n",
    "print('Laboratory 1 Mean = ',Laboratory_1)\n",
    "print('Laboratory 2 Mean = ',Laboratory_2)\n",
    "print('Laboratory 3 Mean = ',Laboratory_3)\n",
    "print('Laboratory 4 Mean = ',Laboratory_4)"
   ]
  },
  {
   "cell_type": "code",
   "execution_count": 34,
   "id": "cc81519e",
   "metadata": {},
   "outputs": [
    {
     "name": "stdout",
     "output_type": "stream",
     "text": [
      "     Laboratory 1\n",
      "0          185.35\n",
      "1          170.49\n",
      "2          192.77\n",
      "3          177.33\n",
      "4          193.41\n",
      "..            ...\n",
      "115        178.49\n",
      "116        176.08\n",
      "117        202.48\n",
      "118        182.40\n",
      "119        182.09\n",
      "\n",
      "[120 rows x 1 columns]      Laboratory 1\n",
      "0          185.35\n",
      "1          170.49\n",
      "2          192.77\n",
      "3          177.33\n",
      "4          193.41\n",
      "..            ...\n",
      "115        178.49\n",
      "116        176.08\n",
      "117        202.48\n",
      "118        182.40\n",
      "119        182.09\n",
      "\n",
      "[120 rows x 1 columns]      Laboratory 3\n",
      "0          176.70\n",
      "1          198.45\n",
      "2          201.23\n",
      "3          199.61\n",
      "4          204.63\n",
      "..            ...\n",
      "115        193.80\n",
      "116        215.25\n",
      "117        203.99\n",
      "118        194.52\n",
      "119        221.49\n",
      "\n",
      "[120 rows x 1 columns]      Laboratory 4\n",
      "0          166.13\n",
      "1          160.79\n",
      "2          185.18\n",
      "3          176.42\n",
      "4          152.60\n",
      "..            ...\n",
      "115        172.68\n",
      "116        177.64\n",
      "117        170.27\n",
      "118        150.87\n",
      "119        162.21\n",
      "\n",
      "[120 rows x 1 columns]\n"
     ]
    }
   ],
   "source": [
    "alpha=0.05\n",
    "Lab1=pd.DataFrame(data['Laboratory 1'])\n",
    "Lab2=pd.DataFrame(data['Laboratory 2'])\n",
    "Lab3=pd.DataFrame(data['Laboratory 3'])\n",
    "Lab4=pd.DataFrame(data['Laboratory 4'])\n",
    "print(Lab1,Lab1,Lab3,Lab4)"
   ]
  },
  {
   "cell_type": "code",
   "execution_count": 35,
   "id": "c974b37f",
   "metadata": {},
   "outputs": [
    {
     "data": {
      "text/plain": [
       "F_onewayResult(statistic=118.70421654401437, pvalue=2.1156708949992414e-57)"
      ]
     },
     "execution_count": 35,
     "metadata": {},
     "output_type": "execute_result"
    }
   ],
   "source": [
    "p_value=stats.f_oneway(data.iloc[:,0],data.iloc[:,1],data.iloc[:,2],data.iloc[:,3])\n",
    "p_value"
   ]
  },
  {
   "cell_type": "code",
   "execution_count": 36,
   "id": "96aca3e2",
   "metadata": {},
   "outputs": [
    {
     "data": {
      "text/plain": [
       "2.1156708949992414e-57"
      ]
     },
     "execution_count": 36,
     "metadata": {},
     "output_type": "execute_result"
    }
   ],
   "source": [
    "p_value[1]"
   ]
  },
  {
   "cell_type": "code",
   "execution_count": null,
   "id": "9ae0e326",
   "metadata": {},
   "outputs": [],
   "source": []
  }
 ],
 "metadata": {
  "_draft": {
   "nbviewer_url": "https://gist.github.com/2545f62b49fabc12e626d0f2518d9f5b"
  },
  "gist": {
   "data": {
    "description": "Untitled3.ipynb",
    "public": true
   },
   "id": "2545f62b49fabc12e626d0f2518d9f5b"
  },
  "kernelspec": {
   "display_name": "Python 3 (ipykernel)",
   "language": "python",
   "name": "python3"
  },
  "language_info": {
   "codemirror_mode": {
    "name": "ipython",
    "version": 3
   },
   "file_extension": ".py",
   "mimetype": "text/x-python",
   "name": "python",
   "nbconvert_exporter": "python",
   "pygments_lexer": "ipython3",
   "version": "3.11.5"
  }
 },
 "nbformat": 4,
 "nbformat_minor": 5
}
